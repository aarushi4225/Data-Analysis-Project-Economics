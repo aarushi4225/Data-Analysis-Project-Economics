{
  "nbformat": 4,
  "nbformat_minor": 0,
  "metadata": {
    "colab": {
      "provenance": [],
      "authorship_tag": "ABX9TyOD34FSX0nogSZpqvRGZGCu",
      "include_colab_link": true
    },
    "kernelspec": {
      "name": "python3",
      "display_name": "Python 3"
    },
    "language_info": {
      "name": "python"
    }
  },
  "cells": [
    {
      "cell_type": "markdown",
      "metadata": {
        "id": "view-in-github",
        "colab_type": "text"
      },
      "source": [
        "<a href=\"https://colab.research.google.com/github/aarushi4225/Data-Analysis-Project-Economics/blob/main/Miniproject.ipynb\" target=\"_parent\"><img src=\"https://colab.research.google.com/assets/colab-badge.svg\" alt=\"Open In Colab\"/></a>"
      ]
    },
    {
      "cell_type": "code",
      "source": [
        "import matplotlib.pyplot as plt\n",
        "import pandas as pd\n",
        "import openpyxl as op\n",
        "from sklearn.linear_model import LinearRegression\n",
        "from sklearn.model_selection import train_test_split\n",
        "from sklearn.metrics import mean_squared_error, r2_score\n",
        "\n",
        "filepath = \"/content/DOC-20250324-WA0010..xlsx\"\n",
        "\n",
        "try:\n",
        "  df = pd.read_excel(filepath)\n",
        "except FileNotFoundError:\n",
        "  print(f\"File not found: {filepath}\")\n",
        "except Exception as e:\n",
        "  print(f\"An error occurred: {e}\")\n",
        "  exit()\n",
        "\n",
        "df = df.dropna()\n",
        "features = ['C', 'G', 'I', 'NX']\n",
        "target = 'GDP'\n",
        "\n",
        "X = df[features]\n",
        "y = df[target]\n",
        "X_train, X_test, y_train, y_test = train_test_split(X, y, test_size=0.25, random_state=89)\n",
        "\n",
        "model = LinearRegression()\n",
        "model.fit(X_train, y_train)\n",
        "\n",
        "y_pred = model.predict(X_test)\n",
        "mse = mean_squared_error(y_test, y_pred)\n",
        "\n",
        "r_squared = r2_score(y_test, y_pred)\n",
        "\n",
        "print(\"---------------------------- Correlation Matrix --------------------------------\")\n",
        "print(df.corr())\n",
        "print(\"-------------------------------------------------------------------------------\")\n",
        "print(f\"Mean Squared Error (MSE): {mse:.2f}\")\n",
        "# print(f\"R-squared: {r_squared:.2f}\")\n",
        "print(\"-------------------------------------------------------------------------------\")\n",
        "intercept = model.intercept_\n",
        "coefficients = model.coef_\n",
        "\n",
        "equation = f\"{target} = {intercept:.2f}\"\n",
        "for i, feature in enumerate(features):\n",
        "    equation += f\" + {coefficients[i]:.5f} * {feature}\"\n",
        "\n",
        "print(\"\\nEquation: \",equation)\n",
        "print(\"-------------------------------------------------------------------------------\")\n",
        "plt.figure(figsize=(7,5))\n",
        "plt.scatter(y_test, y_pred, s=10, color='green', label='Actual vs Predicted')\n",
        "plt.plot([min(y_test), max(y_test)], [min(y_test), max(y_test)], linestyle='-', color='red', linewidth=0.5, label='Perfect Prediction')\n",
        "plt.xlabel('Actual GDP')\n",
        "plt.ylabel('Predicted GDP')\n",
        "plt.title('Actual vs Predicted GDP')\n",
        "plt.legend()\n",
        "plt.grid(True)\n",
        "plt.show()\n",
        "\n",
        "results = pd.DataFrame({'Actual GDP': y_test, 'Predicted GDP': y_pred})\n",
        "results['Percentage Error'] = np.abs((results['Actual GDP'] - results['Predicted GDP']) / results['Actual GDP']) * 100\n",
        "print(\"\\n\",results)"
      ],
      "metadata": {
        "colab": {
          "base_uri": "https://localhost:8080/",
          "height": 851
        },
        "id": "Zn3FE40OZXGj",
        "outputId": "d23ac16d-8c4d-4aa4-ccf7-b906a20c4546"
      },
      "execution_count": null,
      "outputs": [
        {
          "output_type": "stream",
          "name": "stdout",
          "text": [
            "---------------------------- Correlation Matrix --------------------------------\n",
            "          GDP         C         I         G        NX\n",
            "GDP  1.000000  0.999504  0.541053  0.978070 -0.906138\n",
            "C    0.999504  1.000000  0.546140  0.977266 -0.912795\n",
            "I    0.541053  0.546140  1.000000  0.559382 -0.679854\n",
            "G    0.978070  0.977266  0.559382  1.000000 -0.877342\n",
            "NX  -0.906138 -0.912795 -0.679854 -0.877342  1.000000\n",
            "-------------------------------------------------------------------------------\n",
            "Mean Squared Error (MSE): 49429091479302610944.00\n",
            "-------------------------------------------------------------------------------\n",
            "\n",
            "Equation:  GDP = 19112310699.35 + 9.47233 * C + 0.19539 * G + 0.00364 * I + 0.50362 * NX\n",
            "-------------------------------------------------------------------------------\n"
          ]
        },
        {
          "output_type": "display_data",
          "data": {
            "text/plain": [
              "<Figure size 700x500 with 1 Axes>"
            ],
            "image/png": "[encoded data removed]"
          },
          "metadata": {}
        },
        {
          "output_type": "stream",
          "name": "stdout",
          "text": [
            "\n",
            "       Actual GDP  Predicted GDP  Percentage Error\n",
            "9   4.683955e+11   4.704776e+11          0.444515\n",
            "12  6.077007e+11   6.081166e+11          0.068444\n",
            "2   2.792956e+11   2.878662e+11          3.068623\n",
            "3   3.272748e+11   3.266090e+11          0.203441\n",
            "15  9.402599e+11   9.268744e+11          1.423598\n",
            "14  8.203838e+11   8.266285e+11          0.761200\n"
          ]
        }
      ]
    },
    {
      "cell_type": "code",
      "source": [
        "import statsmodels.api as sm\n",
        "X_train = sm.add_constant(X_train)\n",
        "X_test = sm.add_constant(X_test)\n",
        "model = sm.OLS(y_train, X_train).fit()\n",
        "print(model.summary())"
      ],
      "metadata": {
        "colab": {
          "base_uri": "https://localhost:8080/"
        },
        "id": "7HjigracaMv2",
        "outputId": "4bb5cbb9-bbb8-4f97-a130-d8553808dfd7"
      },
      "execution_count": null,
      "outputs": [
        {
          "output_type": "stream",
          "name": "stdout",
          "text": [
            "                            OLS Regression Results                            \n",
            "==============================================================================\n",
            "Dep. Variable:                    GDP   R-squared:                       0.999\n",
            "Model:                            OLS   Adj. R-squared:                  0.999\n",
            "Method:                 Least Squares   F-statistic:                     3737.\n",
            "Date:                Mon, 14 Apr 2025   Prob (F-statistic):           1.86e-18\n",
            "Time:                        05:02:14   Log-Likelihood:                -424.33\n",
            "No. Observations:                  17   AIC:                             858.7\n",
            "Df Residuals:                      12   BIC:                             862.8\n",
            "Df Model:                           4                                         \n",
            "Covariance Type:            nonrobust                                         \n",
            "==============================================================================\n",
            "                 coef    std err          t      P>|t|      [0.025      0.975]\n",
            "------------------------------------------------------------------------------\n",
            "const       1.911e+10   2.74e+10      0.696      0.499   -4.07e+10    7.89e+10\n",
            "C              9.4723      0.514     18.427      0.000       8.352      10.592\n",
            "G              0.1954      0.556      0.352      0.731      -1.015       1.406\n",
            "I              0.0036      0.084      0.043      0.966      -0.179       0.187\n",
            "NX             0.5036      0.427      1.179      0.261      -0.427       1.434\n",
            "==============================================================================\n",
            "Omnibus:                        1.424   Durbin-Watson:                   1.991\n",
            "Prob(Omnibus):                  0.491   Jarque-Bera (JB):                0.899\n",
            "Skew:                           0.178   Prob(JB):                        0.638\n",
            "Kurtosis:                       1.931   Cond. No.                     1.14e+12\n",
            "==============================================================================\n",
            "\n",
            "Notes:\n",
            "[1] Standard Errors assume that the covariance matrix of the errors is correctly specified.\n",
            "[2] The condition number is large, 1.14e+12. This might indicate that there are\n",
            "strong multicollinearity or other numerical problems.\n"
          ]
        },
        {
          "output_type": "stream",
          "name": "stderr",
          "text": [
            "/usr/local/lib/python3.11/dist-packages/scipy/stats/_axis_nan_policy.py:418: UserWarning: `kurtosistest` p-value may be inaccurate with fewer than 20 observations; only n=17 observations were given.\n",
            "  return hypotest_fun_in(*args, **kwds)\n"
          ]
        }
      ]
    },
    {
      "cell_type": "code",
      "source": [
        "random_states = range(1, 101)\n",
        "best_random_state = None\n",
        "best_mse = float('inf')\n",
        "\n",
        "for random_state in random_states:\n",
        "       X_train, X_test, y_train, y_test = train_test_split(X, y, test_size=0.25, random_state=random_state)\n",
        "       model = LinearRegression()\n",
        "       model.fit(X_train, y_train)\n",
        "       y_pred = model.predict(X_test)\n",
        "       mse = mean_squared_error(y_test, y_pred)\n",
        "\n",
        "       if mse < best_mse:\n",
        "           best_mse = mse\n",
        "           best_random_state = random_state\n",
        "\n",
        "print(f\"Best random_state: {best_random_state}, with MSE: {best_mse:.2f}\")\n",
        "print(f\"R-squared: {r2_score(y_test, y_pred):.4f}\")"
      ],
      "metadata": {
        "colab": {
          "base_uri": "https://localhost:8080/"
        },
        "id": "ywaNMwV35lMg",
        "outputId": "4026785e-b1e0-4b51-e314-567538ae0e27"
      },
      "execution_count": null,
      "outputs": [
        {
          "output_type": "stream",
          "name": "stdout",
          "text": [
            "Best random_state: 89, with MSE: 49429091479302610944.00\n",
            "R-squared: 0.9983\n"
          ]
        }
      ]
    }
  ]
}